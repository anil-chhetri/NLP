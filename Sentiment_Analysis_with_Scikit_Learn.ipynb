{
  "nbformat": 4,
  "nbformat_minor": 0,
  "metadata": {
    "colab": {
      "name": "Sentiment Analysis with Scikit-Learn.ipynb",
      "provenance": [],
      "collapsed_sections": [],
      "authorship_tag": "ABX9TyNs4S7AD3Prp8Q1viU9GmfU",
      "include_colab_link": true
    },
    "kernelspec": {
      "name": "python3",
      "display_name": "Python 3"
    }
  },
  "cells": [
    {
      "cell_type": "markdown",
      "metadata": {
        "id": "view-in-github",
        "colab_type": "text"
      },
      "source": [
        "<a href=\"https://colab.research.google.com/github/anil-chhetri/NLP/blob/master/Sentiment_Analysis_with_Scikit_Learn.ipynb\" target=\"_parent\"><img src=\"https://colab.research.google.com/assets/colab-badge.svg\" alt=\"Open In Colab\"/></a>"
      ]
    },
    {
      "cell_type": "code",
      "metadata": {
        "id": "hF0k7fTwofN6",
        "colab_type": "code",
        "colab": {}
      },
      "source": [
        "import re"
      ],
      "execution_count": 17,
      "outputs": []
    },
    {
      "cell_type": "code",
      "metadata": {
        "id": "4ipSxtmRFUEb",
        "colab_type": "code",
        "colab": {
          "base_uri": "https://localhost:8080/",
          "height": 125
        },
        "outputId": "a949d3ed-8987-4d59-95e7-48194f3b51cd"
      },
      "source": [
        "from google.colab import drive\n",
        "drive.mount('/content/gdrive')"
      ],
      "execution_count": 1,
      "outputs": [
        {
          "output_type": "stream",
          "text": [
            "Go to this URL in a browser: https://accounts.google.com/o/oauth2/auth?client_id=947318989803-6bn6qk8qdgf4n4g3pfee6491hc0brc4i.apps.googleusercontent.com&redirect_uri=urn%3aietf%3awg%3aoauth%3a2.0%3aoob&response_type=code&scope=email%20https%3a%2f%2fwww.googleapis.com%2fauth%2fdocs.test%20https%3a%2f%2fwww.googleapis.com%2fauth%2fdrive%20https%3a%2f%2fwww.googleapis.com%2fauth%2fdrive.photos.readonly%20https%3a%2f%2fwww.googleapis.com%2fauth%2fpeopleapi.readonly\n",
            "\n",
            "Enter your authorization code:\n",
            "··········\n",
            "Mounted at /content/gdrive\n"
          ],
          "name": "stdout"
        }
      ]
    },
    {
      "cell_type": "code",
      "metadata": {
        "id": "Ej9CFOZWKO8Z",
        "colab_type": "code",
        "colab": {}
      },
      "source": [
        "!cp \"/content/gdrive/My Drive/Datasets/database.sqlite\" /content/"
      ],
      "execution_count": 2,
      "outputs": []
    },
    {
      "cell_type": "code",
      "metadata": {
        "id": "mE40MEzzHxmh",
        "colab_type": "code",
        "colab": {}
      },
      "source": [
        "%reload_ext sql"
      ],
      "execution_count": 3,
      "outputs": []
    },
    {
      "cell_type": "code",
      "metadata": {
        "id": "Ner2wg9bKD7z",
        "colab_type": "code",
        "colab": {
          "base_uri": "https://localhost:8080/",
          "height": 35
        },
        "outputId": "a87feba2-6408-4f3a-b0a1-ffd85e9b99f7"
      },
      "source": [
        "%sql sqlite:////content/database.sqlite"
      ],
      "execution_count": 4,
      "outputs": [
        {
          "output_type": "execute_result",
          "data": {
            "application/vnd.google.colaboratory.intrinsic+json": {
              "type": "string"
            },
            "text/plain": [
              "'Connected: @/content/database.sqlite'"
            ]
          },
          "metadata": {
            "tags": []
          },
          "execution_count": 4
        }
      ]
    },
    {
      "cell_type": "code",
      "metadata": {
        "id": "lZqZE0jHKKOR",
        "colab_type": "code",
        "colab": {
          "base_uri": "https://localhost:8080/",
          "height": 349
        },
        "outputId": "60b07d25-b003-4da4-ebb6-9b86732be787"
      },
      "source": [
        "%%sql\n",
        "select * from sqlite_master"
      ],
      "execution_count": 5,
      "outputs": [
        {
          "output_type": "stream",
          "text": [
            " * sqlite:////content/database.sqlite\n",
            "Done.\n"
          ],
          "name": "stdout"
        },
        {
          "output_type": "execute_result",
          "data": {
            "text/html": [
              "<table>\n",
              "    <tr>\n",
              "        <th>type</th>\n",
              "        <th>name</th>\n",
              "        <th>tbl_name</th>\n",
              "        <th>rootpage</th>\n",
              "        <th>sql</th>\n",
              "    </tr>\n",
              "    <tr>\n",
              "        <td>table</td>\n",
              "        <td>Tweets</td>\n",
              "        <td>Tweets</td>\n",
              "        <td>2</td>\n",
              "        <td>CREATE TABLE Tweets (<br>    tweet_id INTEGER PRIMARY KEY,<br>    airline_sentiment TEXT,<br>    airline_sentiment_confidence NUMERIC,<br>    negativereason TEXT,<br>    negativereason_confidence NUMERIC,<br>    airline TEXT,<br>    airline_sentiment_gold TEXT,<br>    name TEXT,<br>    negativereason_gold TEXT,<br>    retweet_count INTEGER,<br>    text TEXT,<br>    tweet_coord TEXT,<br>    tweet_created TEXT,<br>    tweet_location TEXT,<br>    user_timezone TEXT)</td>\n",
              "    </tr>\n",
              "</table>"
            ],
            "text/plain": [
              "[('table', 'Tweets', 'Tweets', 2, 'CREATE TABLE Tweets (\\n    tweet_id INTEGER PRIMARY KEY,\\n    airline_sentiment TEXT,\\n    airline_sentiment_confidence NUMERIC,\\n    negativereason  ... (139 characters truncated) ...  TEXT,\\n    retweet_count INTEGER,\\n    text TEXT,\\n    tweet_coord TEXT,\\n    tweet_created TEXT,\\n    tweet_location TEXT,\\n    user_timezone TEXT)')]"
            ]
          },
          "metadata": {
            "tags": []
          },
          "execution_count": 5
        }
      ]
    },
    {
      "cell_type": "code",
      "metadata": {
        "id": "6fa2XCbRLcLA",
        "colab_type": "code",
        "colab": {
          "base_uri": "https://localhost:8080/",
          "height": 216
        },
        "outputId": "d0619242-102d-40d3-d5e3-4c985828ad76"
      },
      "source": [
        "%%sql \n",
        "select * From Tweets limit 1"
      ],
      "execution_count": 6,
      "outputs": [
        {
          "output_type": "stream",
          "text": [
            " * sqlite:////content/database.sqlite\n",
            "Done.\n"
          ],
          "name": "stdout"
        },
        {
          "output_type": "execute_result",
          "data": {
            "text/html": [
              "<table>\n",
              "    <tr>\n",
              "        <th>tweet_id</th>\n",
              "        <th>airline_sentiment</th>\n",
              "        <th>airline_sentiment_confidence</th>\n",
              "        <th>negativereason</th>\n",
              "        <th>negativereason_confidence</th>\n",
              "        <th>airline</th>\n",
              "        <th>airline_sentiment_gold</th>\n",
              "        <th>name</th>\n",
              "        <th>negativereason_gold</th>\n",
              "        <th>retweet_count</th>\n",
              "        <th>text</th>\n",
              "        <th>tweet_coord</th>\n",
              "        <th>tweet_created</th>\n",
              "        <th>tweet_location</th>\n",
              "        <th>user_timezone</th>\n",
              "    </tr>\n",
              "    <tr>\n",
              "        <td>567588278875213824</td>\n",
              "        <td>neutral</td>\n",
              "        <td>1</td>\n",
              "        <td></td>\n",
              "        <td></td>\n",
              "        <td>Delta</td>\n",
              "        <td></td>\n",
              "        <td>JetBlueNews</td>\n",
              "        <td></td>\n",
              "        <td>0</td>\n",
              "        <td>@JetBlue&#x27;s new CEO seeks the right balance to please passengers and Wall ... - Greenfield Daily Reporter http://t.co/LM3opxkxch</td>\n",
              "        <td></td>\n",
              "        <td>2015-02-16 23:36:05 -0800</td>\n",
              "        <td>USA</td>\n",
              "        <td>Sydney</td>\n",
              "    </tr>\n",
              "</table>"
            ],
            "text/plain": [
              "[(567588278875213824, 'neutral', 1, '', '', 'Delta', '', 'JetBlueNews', '', 0, \"@JetBlue's new CEO seeks the right balance to please passengers and Wall ... - Greenfield Daily Reporter http://t.co/LM3opxkxch\", '', '2015-02-16 23:36:05 -0800', 'USA', 'Sydney')]"
            ]
          },
          "metadata": {
            "tags": []
          },
          "execution_count": 6
        }
      ]
    },
    {
      "cell_type": "code",
      "metadata": {
        "id": "MzNRAen4Lkqp",
        "colab_type": "code",
        "colab": {
          "base_uri": "https://localhost:8080/",
          "height": 52
        },
        "outputId": "8324b071-5301-4f84-8906-fe985bbeda8d"
      },
      "source": [
        "df = %sql select * from Tweets"
      ],
      "execution_count": 7,
      "outputs": [
        {
          "output_type": "stream",
          "text": [
            " * sqlite:////content/database.sqlite\n",
            "Done.\n"
          ],
          "name": "stdout"
        }
      ]
    },
    {
      "cell_type": "code",
      "metadata": {
        "id": "HsOvlHv6Lz86",
        "colab_type": "code",
        "colab": {}
      },
      "source": [
        "df = df.DataFrame()"
      ],
      "execution_count": 8,
      "outputs": []
    },
    {
      "cell_type": "code",
      "metadata": {
        "id": "d84lIAEyMNTq",
        "colab_type": "code",
        "colab": {
          "base_uri": "https://localhost:8080/",
          "height": 122
        },
        "outputId": "9f6484a9-4fcb-400d-d07a-e77a01ee93ef"
      },
      "source": [
        "df.columns"
      ],
      "execution_count": 9,
      "outputs": [
        {
          "output_type": "execute_result",
          "data": {
            "text/plain": [
              "Index(['tweet_id', 'airline_sentiment', 'airline_sentiment_confidence',\n",
              "       'negativereason', 'negativereason_confidence', 'airline',\n",
              "       'airline_sentiment_gold', 'name', 'negativereason_gold',\n",
              "       'retweet_count', 'text', 'tweet_coord', 'tweet_created',\n",
              "       'tweet_location', 'user_timezone'],\n",
              "      dtype='object')"
            ]
          },
          "metadata": {
            "tags": []
          },
          "execution_count": 9
        }
      ]
    },
    {
      "cell_type": "code",
      "metadata": {
        "id": "yJFGmokWNXn4",
        "colab_type": "code",
        "colab": {
          "base_uri": "https://localhost:8080/",
          "height": 496
        },
        "outputId": "7886ad6f-ea52-4825-f671-980a3a2d9955"
      },
      "source": [
        "df.head()"
      ],
      "execution_count": 10,
      "outputs": [
        {
          "output_type": "execute_result",
          "data": {
            "text/html": [
              "<div>\n",
              "<style scoped>\n",
              "    .dataframe tbody tr th:only-of-type {\n",
              "        vertical-align: middle;\n",
              "    }\n",
              "\n",
              "    .dataframe tbody tr th {\n",
              "        vertical-align: top;\n",
              "    }\n",
              "\n",
              "    .dataframe thead th {\n",
              "        text-align: right;\n",
              "    }\n",
              "</style>\n",
              "<table border=\"1\" class=\"dataframe\">\n",
              "  <thead>\n",
              "    <tr style=\"text-align: right;\">\n",
              "      <th></th>\n",
              "      <th>tweet_id</th>\n",
              "      <th>airline_sentiment</th>\n",
              "      <th>airline_sentiment_confidence</th>\n",
              "      <th>negativereason</th>\n",
              "      <th>negativereason_confidence</th>\n",
              "      <th>airline</th>\n",
              "      <th>airline_sentiment_gold</th>\n",
              "      <th>name</th>\n",
              "      <th>negativereason_gold</th>\n",
              "      <th>retweet_count</th>\n",
              "      <th>text</th>\n",
              "      <th>tweet_coord</th>\n",
              "      <th>tweet_created</th>\n",
              "      <th>tweet_location</th>\n",
              "      <th>user_timezone</th>\n",
              "    </tr>\n",
              "  </thead>\n",
              "  <tbody>\n",
              "    <tr>\n",
              "      <th>0</th>\n",
              "      <td>567588278875213824</td>\n",
              "      <td>neutral</td>\n",
              "      <td>1.0</td>\n",
              "      <td></td>\n",
              "      <td></td>\n",
              "      <td>Delta</td>\n",
              "      <td></td>\n",
              "      <td>JetBlueNews</td>\n",
              "      <td></td>\n",
              "      <td>0</td>\n",
              "      <td>@JetBlue's new CEO seeks the right balance to ...</td>\n",
              "      <td></td>\n",
              "      <td>2015-02-16 23:36:05 -0800</td>\n",
              "      <td>USA</td>\n",
              "      <td>Sydney</td>\n",
              "    </tr>\n",
              "    <tr>\n",
              "      <th>1</th>\n",
              "      <td>567590027375702016</td>\n",
              "      <td>negative</td>\n",
              "      <td>1.0</td>\n",
              "      <td>Can't Tell</td>\n",
              "      <td>0.6503</td>\n",
              "      <td>Delta</td>\n",
              "      <td></td>\n",
              "      <td>nesi_1992</td>\n",
              "      <td></td>\n",
              "      <td>0</td>\n",
              "      <td>@JetBlue is REALLY getting on my nerves !! 😡😡 ...</td>\n",
              "      <td></td>\n",
              "      <td>2015-02-16 23:43:02 -0800</td>\n",
              "      <td>undecided</td>\n",
              "      <td>Pacific Time (US &amp; Canada)</td>\n",
              "    </tr>\n",
              "    <tr>\n",
              "      <th>2</th>\n",
              "      <td>567591480085463040</td>\n",
              "      <td>negative</td>\n",
              "      <td>1.0</td>\n",
              "      <td>Late Flight</td>\n",
              "      <td>0.346</td>\n",
              "      <td>United</td>\n",
              "      <td></td>\n",
              "      <td>CPoutloud</td>\n",
              "      <td></td>\n",
              "      <td>0</td>\n",
              "      <td>@united yes. We waited in line for almost an h...</td>\n",
              "      <td></td>\n",
              "      <td>2015-02-16 23:48:48 -0800</td>\n",
              "      <td>Washington, DC</td>\n",
              "      <td></td>\n",
              "    </tr>\n",
              "    <tr>\n",
              "      <th>3</th>\n",
              "      <td>567592368451248130</td>\n",
              "      <td>negative</td>\n",
              "      <td>1.0</td>\n",
              "      <td>Late Flight</td>\n",
              "      <td>1</td>\n",
              "      <td>United</td>\n",
              "      <td></td>\n",
              "      <td>brenduch</td>\n",
              "      <td></td>\n",
              "      <td>0</td>\n",
              "      <td>@united the we got into the gate at IAH on tim...</td>\n",
              "      <td></td>\n",
              "      <td>2015-02-16 23:52:20 -0800</td>\n",
              "      <td></td>\n",
              "      <td>Buenos Aires</td>\n",
              "    </tr>\n",
              "    <tr>\n",
              "      <th>4</th>\n",
              "      <td>567594449874587648</td>\n",
              "      <td>negative</td>\n",
              "      <td>1.0</td>\n",
              "      <td>Customer Service Issue</td>\n",
              "      <td>0.3451</td>\n",
              "      <td>Southwest</td>\n",
              "      <td></td>\n",
              "      <td>VahidESQ</td>\n",
              "      <td></td>\n",
              "      <td>0</td>\n",
              "      <td>@SouthwestAir its cool that my bags take a bit...</td>\n",
              "      <td></td>\n",
              "      <td>2015-02-17 00:00:36 -0800</td>\n",
              "      <td>Los Angeles, CA</td>\n",
              "      <td>Pacific Time (US &amp; Canada)</td>\n",
              "    </tr>\n",
              "  </tbody>\n",
              "</table>\n",
              "</div>"
            ],
            "text/plain": [
              "             tweet_id  ...               user_timezone\n",
              "0  567588278875213824  ...                      Sydney\n",
              "1  567590027375702016  ...  Pacific Time (US & Canada)\n",
              "2  567591480085463040  ...                            \n",
              "3  567592368451248130  ...                Buenos Aires\n",
              "4  567594449874587648  ...  Pacific Time (US & Canada)\n",
              "\n",
              "[5 rows x 15 columns]"
            ]
          },
          "metadata": {
            "tags": []
          },
          "execution_count": 10
        }
      ]
    },
    {
      "cell_type": "code",
      "metadata": {
        "id": "8V5fzMIrMkh6",
        "colab_type": "code",
        "colab": {
          "base_uri": "https://localhost:8080/",
          "height": 404
        },
        "outputId": "cb38c32c-4ee7-47e0-989d-1a04a3d2076d"
      },
      "source": [
        "df.info()"
      ],
      "execution_count": 11,
      "outputs": [
        {
          "output_type": "stream",
          "text": [
            "<class 'pandas.core.frame.DataFrame'>\n",
            "RangeIndex: 14485 entries, 0 to 14484\n",
            "Data columns (total 15 columns):\n",
            " #   Column                        Non-Null Count  Dtype  \n",
            "---  ------                        --------------  -----  \n",
            " 0   tweet_id                      14485 non-null  int64  \n",
            " 1   airline_sentiment             14485 non-null  object \n",
            " 2   airline_sentiment_confidence  14485 non-null  float64\n",
            " 3   negativereason                14485 non-null  object \n",
            " 4   negativereason_confidence     14485 non-null  object \n",
            " 5   airline                       14485 non-null  object \n",
            " 6   airline_sentiment_gold        14485 non-null  object \n",
            " 7   name                          14485 non-null  object \n",
            " 8   negativereason_gold           14485 non-null  object \n",
            " 9   retweet_count                 14485 non-null  int64  \n",
            " 10  text                          14485 non-null  object \n",
            " 11  tweet_coord                   14485 non-null  object \n",
            " 12  tweet_created                 14485 non-null  object \n",
            " 13  tweet_location                14485 non-null  object \n",
            " 14  user_timezone                 14485 non-null  object \n",
            "dtypes: float64(1), int64(2), object(12)\n",
            "memory usage: 1.7+ MB\n"
          ],
          "name": "stdout"
        }
      ]
    },
    {
      "cell_type": "code",
      "metadata": {
        "id": "BypobPkoNOFA",
        "colab_type": "code",
        "colab": {
          "base_uri": "https://localhost:8080/",
          "height": 265
        },
        "outputId": "dea1e1d3-974c-4b11-94d7-0e6b70d5bc9d"
      },
      "source": [
        "df.airline.value_counts().plot(kind='pie', explode=[0.0,0.0,0.0,0.0,0.0,0.1], autopct='%1.0f%%' )"
      ],
      "execution_count": 12,
      "outputs": [
        {
          "output_type": "execute_result",
          "data": {
            "text/plain": [
              "<matplotlib.axes._subplots.AxesSubplot at 0x7f49635cde48>"
            ]
          },
          "metadata": {
            "tags": []
          },
          "execution_count": 12
        },
        {
          "output_type": "display_data",
          "data": {
            "image/png": "[encoded data removed]",
            "text/plain": [
              "<Figure size 432x288 with 1 Axes>"
            ]
          },
          "metadata": {
            "tags": []
          }
        }
      ]
    },
    {
      "cell_type": "code",
      "metadata": {
        "id": "aUyc49YkltEJ",
        "colab_type": "code",
        "colab": {
          "base_uri": "https://localhost:8080/",
          "height": 265
        },
        "outputId": "fd8ef5f3-e6f4-448f-e5d5-2359f726e93e"
      },
      "source": [
        "df.airline_sentiment.value_counts().plot.pie(autopct='%.f%%')"
      ],
      "execution_count": 13,
      "outputs": [
        {
          "output_type": "execute_result",
          "data": {
            "text/plain": [
              "<matplotlib.axes._subplots.AxesSubplot at 0x7f49629cdc18>"
            ]
          },
          "metadata": {
            "tags": []
          },
          "execution_count": 13
        },
        {
          "output_type": "display_data",
          "data": {
            "image/png": "[encoded data removed]",
            "text/plain": [
              "<Figure size 432x288 with 1 Axes>"
            ]
          },
          "metadata": {
            "tags": []
          }
        }
      ]
    },
    {
      "cell_type": "code",
      "metadata": {
        "id": "5m4e9l5gpMEt",
        "colab_type": "code",
        "colab": {
          "base_uri": "https://localhost:8080/",
          "height": 360
        },
        "outputId": "a8eeb1f4-5fdc-4c51-ada4-2a6fa3065016"
      },
      "source": [
        "df.groupby(['airline','airline_sentiment']).airline_sentiment.count().unstack().plot.bar()"
      ],
      "execution_count": 14,
      "outputs": [
        {
          "output_type": "execute_result",
          "data": {
            "text/plain": [
              "<matplotlib.axes._subplots.AxesSubplot at 0x7f4962a798d0>"
            ]
          },
          "metadata": {
            "tags": []
          },
          "execution_count": 14
        },
        {
          "output_type": "display_data",
          "data": {
            "image/png": "[encoded data removed]",
            "text/plain": [
              "<Figure size 432x288 with 1 Axes>"
            ]
          },
          "metadata": {
            "tags": [],
            "needs_background": "light"
          }
        }
      ]
    },
    {
      "cell_type": "code",
      "metadata": {
        "id": "rlHOpipnR0MO",
        "colab_type": "code",
        "colab": {}
      },
      "source": [
        "features = df['text']\n",
        "target = df['airline_sentiment']"
      ],
      "execution_count": 15,
      "outputs": []
    },
    {
      "cell_type": "code",
      "metadata": {
        "id": "YR1H5fYpn1i5",
        "colab_type": "code",
        "colab": {
          "base_uri": "https://localhost:8080/",
          "height": 53
        },
        "outputId": "02017c29-af7d-4eb8-c3d5-2e3d5139e148"
      },
      "source": [
        "#data cleaning\n",
        "a = features[0]\n",
        "a"
      ],
      "execution_count": 23,
      "outputs": [
        {
          "output_type": "execute_result",
          "data": {
            "application/vnd.google.colaboratory.intrinsic+json": {
              "type": "string"
            },
            "text/plain": [
              "\"@JetBlue's new CEO seeks the right balance to please passengers and Wall ... - Greenfield Daily Reporter http://t.co/LM3opxkxch\""
            ]
          },
          "metadata": {
            "tags": []
          },
          "execution_count": 23
        }
      ]
    },
    {
      "cell_type": "code",
      "metadata": {
        "id": "KMfiQ2J9oA_R",
        "colab_type": "code",
        "colab": {}
      },
      "source": [
        "final_text = []\n",
        "\n",
        "for sentences in range(0,len(features)):\n",
        "  \n",
        "  ## remove special character\n",
        "  clean_text = re.sub(r'\\W', ' ', str(features[sentences]))\n",
        "\n",
        "  ## remove all the sigle character\n",
        "  clean_text = re.sub(r'\\s+[a-z]\\s+', ' ', clean_text, flags=re.I)\n",
        "\n",
        "  ## substitute multiple spaces\n",
        "  clean_text = re.sub(r'\\s+', ' ', clean_text)\n",
        "\n",
        "  ## Converting to lower case\n",
        "  clean_text = clean_text.lower()\n",
        "\n",
        "  final_text.append(clean_text)\n"
      ],
      "execution_count": 24,
      "outputs": []
    },
    {
      "cell_type": "code",
      "metadata": {
        "id": "nMgtZ4adpmib",
        "colab_type": "code",
        "colab": {}
      },
      "source": [
        "from wordcloud import WordCloud, STOPWORDS, ImageColorGenerator\n",
        "import matplotlib.pyplot as plt\n"
      ],
      "execution_count": 28,
      "outputs": []
    },
    {
      "cell_type": "code",
      "metadata": {
        "id": "3Gg76vTEp5I4",
        "colab_type": "code",
        "colab": {}
      },
      "source": [
        "stopwords = set(STOPWORDS)\n",
        "text = ' '.join(final_text)\n",
        "cloud = WordCloud(stopwords=stopwords).generate(text)\n"
      ],
      "execution_count": 42,
      "outputs": []
    },
    {
      "cell_type": "code",
      "metadata": {
        "id": "qpZ2K1iqq4M5",
        "colab_type": "code",
        "colab": {
          "base_uri": "https://localhost:8080/",
          "height": 198
        },
        "outputId": "78241c71-4e18-428b-9aba-c27ddcef6bec"
      },
      "source": [
        "plt.imshow(cloud)\n",
        "plt.axis('off')\n",
        "plt.show()"
      ],
      "execution_count": 43,
      "outputs": [
        {
          "output_type": "display_data",
          "data": {
            "image/png": "[encoded data removed]",
            "text/plain": [
              "<Figure size 432x288 with 1 Axes>"
            ]
          },
          "metadata": {
            "tags": [],
            "needs_background": "light"
          }
        }
      ]
    },
    {
      "cell_type": "markdown",
      "metadata": {
        "id": "ueKwkS_-sVjb",
        "colab_type": "text"
      },
      "source": [
        "TF-IDF (Term frequency and Inverse Document frequency)\n",
        "\n",
        "formula: \n",
        "  \n",
        "TF  = (Frequency of a word in the document)/(Total words in the document)\n",
        "\n",
        "IDF = Log((Total number of docs)/(Number of docs containing the word))"
      ]
    },
    {
      "cell_type": "code",
      "metadata": {
        "id": "rYTdIrrXrRyB",
        "colab_type": "code",
        "colab": {
          "base_uri": "https://localhost:8080/",
          "height": 52
        },
        "outputId": "191859b6-853a-47f7-bafb-1c064334d401"
      },
      "source": [
        "import nltk\n",
        "nltk.download('stopwords')\n",
        "from nltk.corpus import stopwords as sw\n",
        "from sklearn.feature_extraction.text import TfidfVectorizer"
      ],
      "execution_count": 45,
      "outputs": [
        {
          "output_type": "stream",
          "text": [
            "[nltk_data] Downloading package stopwords to /root/nltk_data...\n",
            "[nltk_data]   Package stopwords is already up-to-date!\n"
          ],
          "name": "stdout"
        }
      ]
    },
    {
      "cell_type": "code",
      "metadata": {
        "id": "yALib0fGskGd",
        "colab_type": "code",
        "colab": {}
      },
      "source": [
        "vector = TfidfVectorizer(max_features=2500, min_df=7, max_df=0.8, stop_words=sw.words('english'))\n",
        "vector_features = vector.fit_transform(final_text).toarray()"
      ],
      "execution_count": 46,
      "outputs": []
    },
    {
      "cell_type": "code",
      "metadata": {
        "id": "o7i91B1ntGma",
        "colab_type": "code",
        "colab": {
          "base_uri": "https://localhost:8080/",
          "height": 34
        },
        "outputId": "5705efdc-69ac-4ee5-eb08-b72f16a71e4b"
      },
      "source": [
        "vector_features.shape"
      ],
      "execution_count": 48,
      "outputs": [
        {
          "output_type": "execute_result",
          "data": {
            "text/plain": [
              "(14485, 2280)"
            ]
          },
          "metadata": {
            "tags": []
          },
          "execution_count": 48
        }
      ]
    },
    {
      "cell_type": "code",
      "metadata": {
        "id": "QzKnmnIyt1wP",
        "colab_type": "code",
        "colab": {}
      },
      "source": [
        "from sklearn.model_selection import train_test_split\n",
        "\n",
        "xtrain, xtest, ytrain, ytest = train_test_split(vector_features, target, test_size=0.2, random_state=0)"
      ],
      "execution_count": 49,
      "outputs": []
    },
    {
      "cell_type": "code",
      "metadata": {
        "id": "YcAQc3dpuWGf",
        "colab_type": "code",
        "colab": {}
      },
      "source": [
        "from sklearn.ensemble import RandomForestClassifier"
      ],
      "execution_count": 50,
      "outputs": []
    },
    {
      "cell_type": "code",
      "metadata": {
        "id": "X2F1VZrLucCP",
        "colab_type": "code",
        "colab": {
          "base_uri": "https://localhost:8080/",
          "height": 158
        },
        "outputId": "816388ae-6103-45ee-80ef-6864215455f0"
      },
      "source": [
        "text_clf = RandomForestClassifier(n_estimators=200, random_state=0)\n",
        "text_clf.fit(xtrain, ytrain)"
      ],
      "execution_count": 51,
      "outputs": [
        {
          "output_type": "execute_result",
          "data": {
            "text/plain": [
              "RandomForestClassifier(bootstrap=True, ccp_alpha=0.0, class_weight=None,\n",
              "                       criterion='gini', max_depth=None, max_features='auto',\n",
              "                       max_leaf_nodes=None, max_samples=None,\n",
              "                       min_impurity_decrease=0.0, min_impurity_split=None,\n",
              "                       min_samples_leaf=1, min_samples_split=2,\n",
              "                       min_weight_fraction_leaf=0.0, n_estimators=200,\n",
              "                       n_jobs=None, oob_score=False, random_state=0, verbose=0,\n",
              "                       warm_start=False)"
            ]
          },
          "metadata": {
            "tags": []
          },
          "execution_count": 51
        }
      ]
    },
    {
      "cell_type": "code",
      "metadata": {
        "id": "aKGvGxd_uk26",
        "colab_type": "code",
        "colab": {}
      },
      "source": [
        "from sklearn.metrics import classification_report, confusion_matrix, accuracy_score"
      ],
      "execution_count": 58,
      "outputs": []
    },
    {
      "cell_type": "code",
      "metadata": {
        "id": "0NA6MTHou7bv",
        "colab_type": "code",
        "colab": {
          "base_uri": "https://localhost:8080/",
          "height": 193
        },
        "outputId": "9d2022fb-6c4a-4f7f-dff3-9ac3fed3927b"
      },
      "source": [
        "print(classification_report(ytest, text_clf.predict(xtest)))"
      ],
      "execution_count": 55,
      "outputs": [
        {
          "output_type": "stream",
          "text": [
            "              precision    recall  f1-score   support\n",
            "\n",
            "    negative       0.78      0.93      0.85      1831\n",
            "     neutral       0.63      0.38      0.47       609\n",
            "    positive       0.73      0.58      0.64       457\n",
            "\n",
            "    accuracy                           0.76      2897\n",
            "   macro avg       0.72      0.63      0.66      2897\n",
            "weighted avg       0.74      0.76      0.74      2897\n",
            "\n"
          ],
          "name": "stdout"
        }
      ]
    },
    {
      "cell_type": "code",
      "metadata": {
        "id": "3vsQoU-pvCBP",
        "colab_type": "code",
        "colab": {
          "base_uri": "https://localhost:8080/",
          "height": 70
        },
        "outputId": "410ae4de-4c82-43ce-a168-874dd015f3f4"
      },
      "source": [
        "confusion_matrix(ytest, text_clf.predict(xtest))"
      ],
      "execution_count": 56,
      "outputs": [
        {
          "output_type": "execute_result",
          "data": {
            "text/plain": [
              "array([[1702,   78,   51],\n",
              "       [ 333,  231,   45],\n",
              "       [ 139,   55,  263]])"
            ]
          },
          "metadata": {
            "tags": []
          },
          "execution_count": 56
        }
      ]
    },
    {
      "cell_type": "code",
      "metadata": {
        "id": "2iaiiC9KvS_H",
        "colab_type": "code",
        "colab": {
          "base_uri": "https://localhost:8080/",
          "height": 34
        },
        "outputId": "031ddc98-efca-4be9-ba63-d2cb1e499dc0"
      },
      "source": [
        "accuracy_score(ytest, text_clf.predict(xtest))"
      ],
      "execution_count": 60,
      "outputs": [
        {
          "output_type": "execute_result",
          "data": {
            "text/plain": [
              "0.7580255436658613"
            ]
          },
          "metadata": {
            "tags": []
          },
          "execution_count": 60
        }
      ]
    },
    {
      "cell_type": "code",
      "metadata": {
        "id": "6yGkBkJ_vfKH",
        "colab_type": "code",
        "colab": {}
      },
      "source": [
        ""
      ],
      "execution_count": null,
      "outputs": []
    }
  ]
}