{
  "nbformat": 4,
  "nbformat_minor": 0,
  "metadata": {
    "colab": {
      "name": "spam and ham Classification.ipynb",
      "provenance": [],
      "authorship_tag": "ABX9TyNA0mng/lOFkIeRtYaAffn2",
      "include_colab_link": true
    },
    "kernelspec": {
      "name": "python3",
      "display_name": "Python 3"
    }
  },
  "cells": [
    {
      "cell_type": "markdown",
      "metadata": {
        "id": "view-in-github",
        "colab_type": "text"
      },
      "source": [
        "<a href=\"https://colab.research.google.com/github/anil-chhetri/NLP/blob/master/spam_and_ham_Classification.ipynb\" target=\"_parent\"><img src=\"https://colab.research.google.com/assets/colab-badge.svg\" alt=\"Open In Colab\"/></a>"
      ]
    },
    {
      "cell_type": "code",
      "metadata": {
        "id": "3Ph2Z_MhLfwq",
        "colab_type": "code",
        "colab": {}
      },
      "source": [
        "import re\n",
        "import pandas as pd"
      ],
      "execution_count": 66,
      "outputs": []
    },
    {
      "cell_type": "code",
      "metadata": {
        "id": "N36HFe1dLq1h",
        "colab_type": "code",
        "colab": {
          "base_uri": "https://localhost:8080/",
          "height": 54
        },
        "outputId": "83c6fd9d-31e2-46eb-a770-b55910dc6275"
      },
      "source": [
        "from google.colab import drive\n",
        "drive.mount('/content/gdrive')"
      ],
      "execution_count": 67,
      "outputs": [
        {
          "output_type": "stream",
          "text": [
            "Drive already mounted at /content/gdrive; to attempt to forcibly remount, call drive.mount(\"/content/gdrive\", force_remount=True).\n"
          ],
          "name": "stdout"
        }
      ]
    },
    {
      "cell_type": "code",
      "metadata": {
        "id": "yfvkg9_OL9Hg",
        "colab_type": "code",
        "colab": {}
      },
      "source": [
        "!cp \"/content/gdrive/My Drive/Datasets/smsclassification.csv\" /content/"
      ],
      "execution_count": 68,
      "outputs": []
    },
    {
      "cell_type": "code",
      "metadata": {
        "id": "f9JNC6clMMLB",
        "colab_type": "code",
        "colab": {}
      },
      "source": [
        "df = pd.read_csv('smsclassification.csv', names=['result', 'features', 'unamed1', 'unamed2', 'unamed3'], skiprows=1)"
      ],
      "execution_count": 69,
      "outputs": []
    },
    {
      "cell_type": "code",
      "metadata": {
        "id": "Y7GRJicSMQYN",
        "colab_type": "code",
        "colab": {
          "base_uri": "https://localhost:8080/",
          "height": 203
        },
        "outputId": "7b51c131-37b3-437a-9c80-0efe8b5b39cb"
      },
      "source": [
        "df.head()"
      ],
      "execution_count": 70,
      "outputs": [
        {
          "output_type": "execute_result",
          "data": {
            "text/html": [
              "<div>\n",
              "<style scoped>\n",
              "    .dataframe tbody tr th:only-of-type {\n",
              "        vertical-align: middle;\n",
              "    }\n",
              "\n",
              "    .dataframe tbody tr th {\n",
              "        vertical-align: top;\n",
              "    }\n",
              "\n",
              "    .dataframe thead th {\n",
              "        text-align: right;\n",
              "    }\n",
              "</style>\n",
              "<table border=\"1\" class=\"dataframe\">\n",
              "  <thead>\n",
              "    <tr style=\"text-align: right;\">\n",
              "      <th></th>\n",
              "      <th>result</th>\n",
              "      <th>features</th>\n",
              "      <th>unamed1</th>\n",
              "      <th>unamed2</th>\n",
              "      <th>unamed3</th>\n",
              "    </tr>\n",
              "  </thead>\n",
              "  <tbody>\n",
              "    <tr>\n",
              "      <th>0</th>\n",
              "      <td>ham</td>\n",
              "      <td>Go until jurong point, crazy.. Available only ...</td>\n",
              "      <td>NaN</td>\n",
              "      <td>NaN</td>\n",
              "      <td>NaN</td>\n",
              "    </tr>\n",
              "    <tr>\n",
              "      <th>1</th>\n",
              "      <td>ham</td>\n",
              "      <td>Ok lar... Joking wif u oni...</td>\n",
              "      <td>NaN</td>\n",
              "      <td>NaN</td>\n",
              "      <td>NaN</td>\n",
              "    </tr>\n",
              "    <tr>\n",
              "      <th>2</th>\n",
              "      <td>spam</td>\n",
              "      <td>Free entry in 2 a wkly comp to win FA Cup fina...</td>\n",
              "      <td>NaN</td>\n",
              "      <td>NaN</td>\n",
              "      <td>NaN</td>\n",
              "    </tr>\n",
              "    <tr>\n",
              "      <th>3</th>\n",
              "      <td>ham</td>\n",
              "      <td>U dun say so early hor... U c already then say...</td>\n",
              "      <td>NaN</td>\n",
              "      <td>NaN</td>\n",
              "      <td>NaN</td>\n",
              "    </tr>\n",
              "    <tr>\n",
              "      <th>4</th>\n",
              "      <td>ham</td>\n",
              "      <td>Nah I don't think he goes to usf, he lives aro...</td>\n",
              "      <td>NaN</td>\n",
              "      <td>NaN</td>\n",
              "      <td>NaN</td>\n",
              "    </tr>\n",
              "  </tbody>\n",
              "</table>\n",
              "</div>"
            ],
            "text/plain": [
              "  result                                           features  ... unamed2 unamed3\n",
              "0    ham  Go until jurong point, crazy.. Available only ...  ...     NaN     NaN\n",
              "1    ham                      Ok lar... Joking wif u oni...  ...     NaN     NaN\n",
              "2   spam  Free entry in 2 a wkly comp to win FA Cup fina...  ...     NaN     NaN\n",
              "3    ham  U dun say so early hor... U c already then say...  ...     NaN     NaN\n",
              "4    ham  Nah I don't think he goes to usf, he lives aro...  ...     NaN     NaN\n",
              "\n",
              "[5 rows x 5 columns]"
            ]
          },
          "metadata": {
            "tags": []
          },
          "execution_count": 70
        }
      ]
    },
    {
      "cell_type": "code",
      "metadata": {
        "id": "GYhTjnMUMUb9",
        "colab_type": "code",
        "colab": {
          "base_uri": "https://localhost:8080/",
          "height": 87
        },
        "outputId": "e11d0353-a0c0-4b27-9753-d8d894369d4d"
      },
      "source": [
        "from sklearn.preprocessing import LabelEncoder\n",
        "import nltk\n",
        "nltk.download('stopwords')\n",
        "nltk.download('punkt')\n",
        "from nltk.corpus import stopwords\n",
        "from nltk.tokenize import word_tokenize"
      ],
      "execution_count": 71,
      "outputs": [
        {
          "output_type": "stream",
          "text": [
            "[nltk_data] Downloading package stopwords to /root/nltk_data...\n",
            "[nltk_data]   Package stopwords is already up-to-date!\n",
            "[nltk_data] Downloading package punkt to /root/nltk_data...\n",
            "[nltk_data]   Package punkt is already up-to-date!\n"
          ],
          "name": "stdout"
        }
      ]
    },
    {
      "cell_type": "code",
      "metadata": {
        "id": "qNUa55TQMkwN",
        "colab_type": "code",
        "colab": {
          "base_uri": "https://localhost:8080/",
          "height": 34
        },
        "outputId": "3c16b602-2535-482e-f612-735816eb6764"
      },
      "source": [
        "lr = LabelEncoder()\n",
        "target = lr.fit_transform(df['result'])\n",
        "lr"
      ],
      "execution_count": 72,
      "outputs": [
        {
          "output_type": "execute_result",
          "data": {
            "text/plain": [
              "LabelEncoder()"
            ]
          },
          "metadata": {
            "tags": []
          },
          "execution_count": 72
        }
      ]
    },
    {
      "cell_type": "code",
      "metadata": {
        "id": "lQQTVDO9OtBv",
        "colab_type": "code",
        "colab": {
          "base_uri": "https://localhost:8080/",
          "height": 34
        },
        "outputId": "8233f33a-4ddd-4552-95bd-a18feba6819d"
      },
      "source": [
        "lr.classes_"
      ],
      "execution_count": 73,
      "outputs": [
        {
          "output_type": "execute_result",
          "data": {
            "text/plain": [
              "array(['ham', 'spam'], dtype=object)"
            ]
          },
          "metadata": {
            "tags": []
          },
          "execution_count": 73
        }
      ]
    },
    {
      "cell_type": "code",
      "metadata": {
        "id": "TkRKG8wxWrdF",
        "colab_type": "code",
        "colab": {
          "base_uri": "https://localhost:8080/",
          "height": 34
        },
        "outputId": "acc4afc2-7252-4334-927f-e36cf3f85b85"
      },
      "source": [
        "stopwords.words"
      ],
      "execution_count": 74,
      "outputs": [
        {
          "output_type": "execute_result",
          "data": {
            "text/plain": [
              "<bound method WordListCorpusReader.words of <WordListCorpusReader in '/root/nltk_data/corpora/stopwords'>>"
            ]
          },
          "metadata": {
            "tags": []
          },
          "execution_count": 74
        }
      ]
    },
    {
      "cell_type": "code",
      "metadata": {
        "id": "cgfN2ciFPGvj",
        "colab_type": "code",
        "colab": {}
      },
      "source": [
        "features = df['features']"
      ],
      "execution_count": 75,
      "outputs": []
    },
    {
      "cell_type": "code",
      "metadata": {
        "id": "ExcmcvamX1Qq",
        "colab_type": "code",
        "colab": {
          "base_uri": "https://localhost:8080/",
          "height": 35
        },
        "outputId": "532d770f-1c1f-4e3f-ec9a-23ce11b986ad"
      },
      "source": [
        " re.sub(r\"((?<=^)|(?<= )).((?=$)|(?= ))\", ' ', 'U dun say so early hor... U u c already then say...')"
      ],
      "execution_count": 88,
      "outputs": [
        {
          "output_type": "execute_result",
          "data": {
            "application/vnd.google.colaboratory.intrinsic+json": {
              "type": "string"
            },
            "text/plain": [
              "'  dun say so early hor...       already then say...'"
            ]
          },
          "metadata": {
            "tags": []
          },
          "execution_count": 88
        }
      ]
    },
    {
      "cell_type": "code",
      "metadata": {
        "id": "oVkBrAVlQnY8",
        "colab_type": "code",
        "colab": {}
      },
      "source": [
        "final_text = []\n",
        "\n",
        "for index in range(0,len(features)):\n",
        "\n",
        "  ## removing symbols and numbers\n",
        "  clean_text = re.sub(r'\\W|\\d', ' ', features[index])\n",
        "\n",
        "  ## removing single word\n",
        "  #clean_text = re.sub(r'\\s+[a-zA-Z]\\s+', ' ', clean_text)\n",
        "  clean_text = re.sub(r\"((?<=^)|(?<= )).((?=$)|(?= ))\", ' ', clean_text)\n",
        "\n",
        "  ## removing multiple spaces\n",
        "  clean_text = re.sub(r'\\s+', ' ', clean_text)\n",
        "\n",
        "  ## converting to lower\n",
        "  clean_text = clean_text.lower()\n",
        "\n",
        "  ## removing stop words\n",
        "  #print(clean_text)\n",
        "  clean_text = ' '.join([x for x in word_tokenize(clean_text) if x not in stopwords.words('english')])\n",
        "\n",
        "  final_text.append(clean_text)\n",
        "\n"
      ],
      "execution_count": 92,
      "outputs": []
    },
    {
      "cell_type": "code",
      "metadata": {
        "id": "845vnljVXNYE",
        "colab_type": "code",
        "colab": {
          "base_uri": "https://localhost:8080/",
          "height": 105
        },
        "outputId": "bb7320a3-38bb-4588-f42f-2933cf163934"
      },
      "source": [
        "final_text[:5]"
      ],
      "execution_count": 93,
      "outputs": [
        {
          "output_type": "execute_result",
          "data": {
            "text/plain": [
              "['go jurong point crazy available bugis great world la buffet cine got amore wat',\n",
              " 'ok lar joking wif oni',\n",
              " 'free entry wkly comp win fa cup final tkts st may text fa receive entry question std txt rate apply',\n",
              " 'dun say early hor already say',\n",
              " 'nah think goes usf lives around though']"
            ]
          },
          "metadata": {
            "tags": []
          },
          "execution_count": 93
        }
      ]
    },
    {
      "cell_type": "code",
      "metadata": {
        "id": "qpjRDwIid5ke",
        "colab_type": "code",
        "colab": {}
      },
      "source": [
        "from sklearn.model_selection import train_test_split\n",
        "from sklearn.tree import DecisionTreeClassifier\n",
        "from sklearn.ensemble import RandomForestClassifier\n",
        "from sklearn.naive_bayes import MultinomialNB\n",
        "from sklearn.feature_extraction.text import CountVectorizer\n",
        "from sklearn.metrics import classification_report, confusion_matrix, accuracy_score"
      ],
      "execution_count": 105,
      "outputs": []
    },
    {
      "cell_type": "code",
      "metadata": {
        "id": "psOgO6_Cp7FS",
        "colab_type": "code",
        "colab": {
          "base_uri": "https://localhost:8080/",
          "height": 34
        },
        "outputId": "f2a8da18-d687-44af-9f11-4a8f8fcba78b"
      },
      "source": [
        "# calculating words of bags\n",
        "WOB_matrix = CountVectorizer(max_features=2500, max_df=0.8).fit_transform(final_text).toarray()\n",
        "WOB_matrix.shape"
      ],
      "execution_count": 100,
      "outputs": [
        {
          "output_type": "execute_result",
          "data": {
            "text/plain": [
              "(5572, 2500)"
            ]
          },
          "metadata": {
            "tags": []
          },
          "execution_count": 100
        }
      ]
    },
    {
      "cell_type": "code",
      "metadata": {
        "id": "gCG7FUSorWy2",
        "colab_type": "code",
        "colab": {}
      },
      "source": [
        "xtrain, xtest, ytrain, ytest = train_test_split(WOB_matrix, target, test_size=0.2, random_state=0)"
      ],
      "execution_count": 115,
      "outputs": []
    },
    {
      "cell_type": "markdown",
      "metadata": {
        "id": "zJox1VXOt7_O",
        "colab_type": "text"
      },
      "source": [
        "Implementing Descision Tree"
      ]
    },
    {
      "cell_type": "code",
      "metadata": {
        "id": "CsZOEumJr0Mw",
        "colab_type": "code",
        "colab": {}
      },
      "source": [
        "dsc_clf = DecisionTreeClassifier().fit(xtrain, ytrain)"
      ],
      "execution_count": 116,
      "outputs": []
    },
    {
      "cell_type": "code",
      "metadata": {
        "id": "LbP_iv5asGuc",
        "colab_type": "code",
        "colab": {
          "base_uri": "https://localhost:8080/",
          "height": 34
        },
        "outputId": "12d8bc95-5d0d-48df-adb7-94854f3750e1"
      },
      "source": [
        "ytest[:10], dsc_clf.predict(xtest)[:10]"
      ],
      "execution_count": 117,
      "outputs": [
        {
          "output_type": "execute_result",
          "data": {
            "text/plain": [
              "(array([0, 0, 0, 0, 0, 0, 0, 0, 0, 1]), array([0, 0, 0, 0, 0, 0, 0, 0, 0, 1]))"
            ]
          },
          "metadata": {
            "tags": []
          },
          "execution_count": 117
        }
      ]
    },
    {
      "cell_type": "code",
      "metadata": {
        "id": "_qbDBSmSsgw9",
        "colab_type": "code",
        "colab": {
          "base_uri": "https://localhost:8080/",
          "height": 175
        },
        "outputId": "2e7fffb4-bbb9-4ae3-ef1c-dbe400ce5fd4"
      },
      "source": [
        "print(classification_report(ytest, dsc_clf.predict(xtest)))"
      ],
      "execution_count": 118,
      "outputs": [
        {
          "output_type": "stream",
          "text": [
            "              precision    recall  f1-score   support\n",
            "\n",
            "           0       0.97      0.99      0.98       949\n",
            "           1       0.93      0.83      0.88       166\n",
            "\n",
            "    accuracy                           0.97      1115\n",
            "   macro avg       0.95      0.91      0.93      1115\n",
            "weighted avg       0.97      0.97      0.97      1115\n",
            "\n"
          ],
          "name": "stdout"
        }
      ]
    },
    {
      "cell_type": "code",
      "metadata": {
        "id": "RXNEqdkdswTl",
        "colab_type": "code",
        "colab": {
          "base_uri": "https://localhost:8080/",
          "height": 70
        },
        "outputId": "e46c35ce-c38e-4448-8b7d-4624ff7032bb"
      },
      "source": [
        "confusion_matrix(ytest, dsc_clf.predict(xtest)),confusion_matrix(ytrain, dsc_clf.predict(xtrain))"
      ],
      "execution_count": 119,
      "outputs": [
        {
          "output_type": "execute_result",
          "data": {
            "text/plain": [
              "(array([[939,  10],\n",
              "        [ 28, 138]]), array([[3876,    0],\n",
              "        [   2,  579]]))"
            ]
          },
          "metadata": {
            "tags": []
          },
          "execution_count": 119
        }
      ]
    },
    {
      "cell_type": "code",
      "metadata": {
        "id": "gI9W6KNrtGk1",
        "colab_type": "code",
        "colab": {
          "base_uri": "https://localhost:8080/",
          "height": 34
        },
        "outputId": "9bf218a4-bebb-4f4e-9ba0-90346a4391e8"
      },
      "source": [
        "accuracy_score(ytest, dsc_clf.predict(xtest)),accuracy_score(ytrain, dsc_clf.predict(xtrain))"
      ],
      "execution_count": 120,
      "outputs": [
        {
          "output_type": "execute_result",
          "data": {
            "text/plain": [
              "(0.9659192825112107, 0.9995512676688355)"
            ]
          },
          "metadata": {
            "tags": []
          },
          "execution_count": 120
        }
      ]
    },
    {
      "cell_type": "markdown",
      "metadata": {
        "id": "Dco-Un7Gt_uR",
        "colab_type": "text"
      },
      "source": [
        "Implementing Random Forest Classifier"
      ]
    },
    {
      "cell_type": "code",
      "metadata": {
        "id": "pNvzznPXtSA8",
        "colab_type": "code",
        "colab": {}
      },
      "source": [
        "rf_clf = RandomForestClassifier(n_estimators=150).fit(xtrain, ytrain)"
      ],
      "execution_count": 126,
      "outputs": []
    },
    {
      "cell_type": "code",
      "metadata": {
        "id": "jmkqLIAAuPwu",
        "colab_type": "code",
        "colab": {
          "base_uri": "https://localhost:8080/",
          "height": 34
        },
        "outputId": "cf66bc7d-da68-42aa-e652-716fa996397a"
      },
      "source": [
        "ytest[:10], rf_clf.predict(xtest)[:10]"
      ],
      "execution_count": 127,
      "outputs": [
        {
          "output_type": "execute_result",
          "data": {
            "text/plain": [
              "(array([0, 0, 0, 0, 0, 0, 0, 0, 0, 1]), array([0, 0, 0, 0, 0, 0, 0, 0, 0, 1]))"
            ]
          },
          "metadata": {
            "tags": []
          },
          "execution_count": 127
        }
      ]
    },
    {
      "cell_type": "code",
      "metadata": {
        "id": "aRUydM1VuVPc",
        "colab_type": "code",
        "colab": {
          "base_uri": "https://localhost:8080/",
          "height": 175
        },
        "outputId": "7cd00c7f-3192-4b56-b430-31df84bf868b"
      },
      "source": [
        "print(classification_report(ytest, rf_clf.predict(xtest)))"
      ],
      "execution_count": 128,
      "outputs": [
        {
          "output_type": "stream",
          "text": [
            "              precision    recall  f1-score   support\n",
            "\n",
            "           0       0.97      1.00      0.99       949\n",
            "           1       1.00      0.85      0.92       166\n",
            "\n",
            "    accuracy                           0.98      1115\n",
            "   macro avg       0.99      0.92      0.95      1115\n",
            "weighted avg       0.98      0.98      0.98      1115\n",
            "\n"
          ],
          "name": "stdout"
        }
      ]
    },
    {
      "cell_type": "code",
      "metadata": {
        "id": "8i__Q2fHuYJl",
        "colab_type": "code",
        "colab": {
          "base_uri": "https://localhost:8080/",
          "height": 70
        },
        "outputId": "b0334dfc-f5be-47a2-d831-d90366602b98"
      },
      "source": [
        "confusion_matrix(ytest, rf_clf.predict(xtest)),confusion_matrix(ytrain, rf_clf.predict(xtrain))"
      ],
      "execution_count": 129,
      "outputs": [
        {
          "output_type": "execute_result",
          "data": {
            "text/plain": [
              "(array([[949,   0],\n",
              "        [ 25, 141]]), array([[3876,    0],\n",
              "        [   2,  579]]))"
            ]
          },
          "metadata": {
            "tags": []
          },
          "execution_count": 129
        }
      ]
    },
    {
      "cell_type": "code",
      "metadata": {
        "id": "KHaxvfujuaY9",
        "colab_type": "code",
        "colab": {
          "base_uri": "https://localhost:8080/",
          "height": 34
        },
        "outputId": "4187c9aa-1bca-4317-b4f7-324bd76c0ceb"
      },
      "source": [
        "accuracy_score(ytest, rf_clf.predict(xtest)),accuracy_score(ytrain, rf_clf.predict(xtrain))"
      ],
      "execution_count": 130,
      "outputs": [
        {
          "output_type": "execute_result",
          "data": {
            "text/plain": [
              "(0.9775784753363229, 0.9995512676688355)"
            ]
          },
          "metadata": {
            "tags": []
          },
          "execution_count": 130
        }
      ]
    },
    {
      "cell_type": "markdown",
      "metadata": {
        "id": "b8RizcZDvtQv",
        "colab_type": "text"
      },
      "source": [
        "multinomial Naive Bayes classifier"
      ]
    },
    {
      "cell_type": "code",
      "metadata": {
        "id": "XmD6TVFhujw9",
        "colab_type": "code",
        "colab": {}
      },
      "source": [
        "nb_clf = MultinomialNB().fit(xtrain, ytrain)"
      ],
      "execution_count": 131,
      "outputs": []
    },
    {
      "cell_type": "code",
      "metadata": {
        "id": "zWGVyq-Bv2aI",
        "colab_type": "code",
        "colab": {
          "base_uri": "https://localhost:8080/",
          "height": 34
        },
        "outputId": "808e33f5-22bd-4254-88ef-e16dccf6ddab"
      },
      "source": [
        "ytest[:10], nb_clf.predict(xtest)[:10]"
      ],
      "execution_count": 133,
      "outputs": [
        {
          "output_type": "execute_result",
          "data": {
            "text/plain": [
              "(array([0, 0, 0, 0, 0, 0, 0, 0, 0, 1]), array([0, 0, 0, 0, 0, 0, 0, 0, 0, 1]))"
            ]
          },
          "metadata": {
            "tags": []
          },
          "execution_count": 133
        }
      ]
    },
    {
      "cell_type": "code",
      "metadata": {
        "id": "Msh8Ovvbv4rN",
        "colab_type": "code",
        "colab": {
          "base_uri": "https://localhost:8080/",
          "height": 175
        },
        "outputId": "69057750-91ee-4d7e-d904-33f57718be6b"
      },
      "source": [
        "print(classification_report(ytest, nb_clf.predict(xtest)))"
      ],
      "execution_count": 134,
      "outputs": [
        {
          "output_type": "stream",
          "text": [
            "              precision    recall  f1-score   support\n",
            "\n",
            "           0       0.99      0.99      0.99       949\n",
            "           1       0.93      0.94      0.94       166\n",
            "\n",
            "    accuracy                           0.98      1115\n",
            "   macro avg       0.96      0.96      0.96      1115\n",
            "weighted avg       0.98      0.98      0.98      1115\n",
            "\n"
          ],
          "name": "stdout"
        }
      ]
    },
    {
      "cell_type": "code",
      "metadata": {
        "id": "ARjxJEUcwAR9",
        "colab_type": "code",
        "colab": {
          "base_uri": "https://localhost:8080/",
          "height": 34
        },
        "outputId": "8d2a7299-f96c-4185-8a55-02cd9392f65e"
      },
      "source": [
        "accuracy_score(ytest, rf_clf.predict(xtest)),accuracy_score(ytrain, rf_clf.predict(xtrain))"
      ],
      "execution_count": 135,
      "outputs": [
        {
          "output_type": "execute_result",
          "data": {
            "text/plain": [
              "(0.9775784753363229, 0.9995512676688355)"
            ]
          },
          "metadata": {
            "tags": []
          },
          "execution_count": 135
        }
      ]
    },
    {
      "cell_type": "code",
      "metadata": {
        "id": "55KHwV-FwEGF",
        "colab_type": "code",
        "colab": {}
      },
      "source": [
        ""
      ],
      "execution_count": null,
      "outputs": []
    }
  ]
}