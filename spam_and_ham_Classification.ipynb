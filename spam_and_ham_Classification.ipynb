{
  "nbformat": 4,
  "nbformat_minor": 0,
  "metadata": {
    "colab": {
      "name": "spam and ham Classification.ipynb",
      "provenance": [],
      "authorship_tag": "ABX9TyP0oiVgiZuOw1ftOC/MtMZr",
      "include_colab_link": true
    },
    "kernelspec": {
      "name": "python3",
      "display_name": "Python 3"
    }
  },
  "cells": [
    {
      "cell_type": "markdown",
      "metadata": {
        "id": "view-in-github",
        "colab_type": "text"
      },
      "source": [
        "<a href=\"https://colab.research.google.com/github/anil-chhetri/NLP/blob/master/spam_and_ham_Classification.ipynb\" target=\"_parent\"><img src=\"https://colab.research.google.com/assets/colab-badge.svg\" alt=\"Open In Colab\"/></a>"
      ]
    },
    {
      "cell_type": "code",
      "metadata": {
        "id": "3Ph2Z_MhLfwq",
        "colab_type": "code",
        "colab": {}
      },
      "source": [
        "import re\n",
        "import pandas as pd"
      ],
      "execution_count": 138,
      "outputs": []
    },
    {
      "cell_type": "code",
      "metadata": {
        "id": "N36HFe1dLq1h",
        "colab_type": "code",
        "colab": {
          "base_uri": "https://localhost:8080/",
          "height": 54
        },
        "outputId": "83c6fd9d-31e2-46eb-a770-b55910dc6275"
      },
      "source": [
        "from google.colab import drive\n",
        "drive.mount('/content/gdrive')"
      ],
      "execution_count": null,
      "outputs": [
        {
          "output_type": "stream",
          "text": [
            "Drive already mounted at /content/gdrive; to attempt to forcibly remount, call drive.mount(\"/content/gdrive\", force_remount=True).\n"
          ],
          "name": "stdout"
        }
      ]
    },
    {
      "cell_type": "code",
      "metadata": {
        "id": "yfvkg9_OL9Hg",
        "colab_type": "code",
        "colab": {}
      },
      "source": [
        "!cp \"/content/gdrive/My Drive/Datasets/smsclassification.csv\" /content/"
      ],
      "execution_count": 139,
      "outputs": []
    },
    {
      "cell_type": "code",
      "metadata": {
        "id": "f9JNC6clMMLB",
        "colab_type": "code",
        "colab": {}
      },
      "source": [
        "df = pd.read_csv('smsclassification.csv', names=['result', 'features', 'unamed1', 'unamed2', 'unamed3'], skiprows=1)"
      ],
      "execution_count": 140,
      "outputs": []
    },
    {
      "cell_type": "code",
      "metadata": {
        "id": "Y7GRJicSMQYN",
        "colab_type": "code",
        "colab": {
          "base_uri": "https://localhost:8080/",
          "height": 203
        },
        "outputId": "4fc62fcb-12bb-4f42-9cef-64e5733b27fa"
      },
      "source": [
        "df.head()"
      ],
      "execution_count": 141,
      "outputs": [
        {
          "output_type": "execute_result",
          "data": {
            "text/html": [
              "<div>\n",
              "<style scoped>\n",
              "    .dataframe tbody tr th:only-of-type {\n",
              "        vertical-align: middle;\n",
              "    }\n",
              "\n",
              "    .dataframe tbody tr th {\n",
              "        vertical-align: top;\n",
              "    }\n",
              "\n",
              "    .dataframe thead th {\n",
              "        text-align: right;\n",
              "    }\n",
              "</style>\n",
              "<table border=\"1\" class=\"dataframe\">\n",
              "  <thead>\n",
              "    <tr style=\"text-align: right;\">\n",
              "      <th></th>\n",
              "      <th>result</th>\n",
              "      <th>features</th>\n",
              "      <th>unamed1</th>\n",
              "      <th>unamed2</th>\n",
              "      <th>unamed3</th>\n",
              "    </tr>\n",
              "  </thead>\n",
              "  <tbody>\n",
              "    <tr>\n",
              "      <th>0</th>\n",
              "      <td>ham</td>\n",
              "      <td>Go until jurong point, crazy.. Available only ...</td>\n",
              "      <td>NaN</td>\n",
              "      <td>NaN</td>\n",
              "      <td>NaN</td>\n",
              "    </tr>\n",
              "    <tr>\n",
              "      <th>1</th>\n",
              "      <td>ham</td>\n",
              "      <td>Ok lar... Joking wif u oni...</td>\n",
              "      <td>NaN</td>\n",
              "      <td>NaN</td>\n",
              "      <td>NaN</td>\n",
              "    </tr>\n",
              "    <tr>\n",
              "      <th>2</th>\n",
              "      <td>spam</td>\n",
              "      <td>Free entry in 2 a wkly comp to win FA Cup fina...</td>\n",
              "      <td>NaN</td>\n",
              "      <td>NaN</td>\n",
              "      <td>NaN</td>\n",
              "    </tr>\n",
              "    <tr>\n",
              "      <th>3</th>\n",
              "      <td>ham</td>\n",
              "      <td>U dun say so early hor... U c already then say...</td>\n",
              "      <td>NaN</td>\n",
              "      <td>NaN</td>\n",
              "      <td>NaN</td>\n",
              "    </tr>\n",
              "    <tr>\n",
              "      <th>4</th>\n",
              "      <td>ham</td>\n",
              "      <td>Nah I don't think he goes to usf, he lives aro...</td>\n",
              "      <td>NaN</td>\n",
              "      <td>NaN</td>\n",
              "      <td>NaN</td>\n",
              "    </tr>\n",
              "  </tbody>\n",
              "</table>\n",
              "</div>"
            ],
            "text/plain": [
              "  result                                           features  ... unamed2 unamed3\n",
              "0    ham  Go until jurong point, crazy.. Available only ...  ...     NaN     NaN\n",
              "1    ham                      Ok lar... Joking wif u oni...  ...     NaN     NaN\n",
              "2   spam  Free entry in 2 a wkly comp to win FA Cup fina...  ...     NaN     NaN\n",
              "3    ham  U dun say so early hor... U c already then say...  ...     NaN     NaN\n",
              "4    ham  Nah I don't think he goes to usf, he lives aro...  ...     NaN     NaN\n",
              "\n",
              "[5 rows x 5 columns]"
            ]
          },
          "metadata": {
            "tags": []
          },
          "execution_count": 141
        }
      ]
    },
    {
      "cell_type": "code",
      "metadata": {
        "id": "GYhTjnMUMUb9",
        "colab_type": "code",
        "colab": {
          "base_uri": "https://localhost:8080/",
          "height": 87
        },
        "outputId": "f3729ebd-b90a-42cb-b4b4-c92d44653c12"
      },
      "source": [
        "from sklearn.preprocessing import LabelEncoder\n",
        "import nltk\n",
        "nltk.download('stopwords')\n",
        "nltk.download('punkt')\n",
        "from nltk.corpus import stopwords\n",
        "from nltk.tokenize import word_tokenize"
      ],
      "execution_count": 142,
      "outputs": [
        {
          "output_type": "stream",
          "text": [
            "[nltk_data] Downloading package stopwords to /root/nltk_data...\n",
            "[nltk_data]   Package stopwords is already up-to-date!\n",
            "[nltk_data] Downloading package punkt to /root/nltk_data...\n",
            "[nltk_data]   Package punkt is already up-to-date!\n"
          ],
          "name": "stdout"
        }
      ]
    },
    {
      "cell_type": "code",
      "metadata": {
        "id": "qNUa55TQMkwN",
        "colab_type": "code",
        "colab": {
          "base_uri": "https://localhost:8080/",
          "height": 34
        },
        "outputId": "0053d3e0-ed0a-4a49-d58c-47e5abade78e"
      },
      "source": [
        "lr = LabelEncoder()\n",
        "target = lr.fit_transform(df['result'])\n",
        "lr"
      ],
      "execution_count": 143,
      "outputs": [
        {
          "output_type": "execute_result",
          "data": {
            "text/plain": [
              "LabelEncoder()"
            ]
          },
          "metadata": {
            "tags": []
          },
          "execution_count": 143
        }
      ]
    },
    {
      "cell_type": "code",
      "metadata": {
        "id": "lQQTVDO9OtBv",
        "colab_type": "code",
        "colab": {
          "base_uri": "https://localhost:8080/",
          "height": 34
        },
        "outputId": "3d6d267c-d306-4940-b675-97bbaa85d2c8"
      },
      "source": [
        "lr.classes_"
      ],
      "execution_count": 144,
      "outputs": [
        {
          "output_type": "execute_result",
          "data": {
            "text/plain": [
              "array(['ham', 'spam'], dtype=object)"
            ]
          },
          "metadata": {
            "tags": []
          },
          "execution_count": 144
        }
      ]
    },
    {
      "cell_type": "code",
      "metadata": {
        "id": "TkRKG8wxWrdF",
        "colab_type": "code",
        "colab": {
          "base_uri": "https://localhost:8080/",
          "height": 34
        },
        "outputId": "eeac2571-b338-4b22-fcfa-75e37f6d82d5"
      },
      "source": [
        "stopwords.words"
      ],
      "execution_count": 145,
      "outputs": [
        {
          "output_type": "execute_result",
          "data": {
            "text/plain": [
              "<bound method WordListCorpusReader.words of <WordListCorpusReader in '/root/nltk_data/corpora/stopwords'>>"
            ]
          },
          "metadata": {
            "tags": []
          },
          "execution_count": 145
        }
      ]
    },
    {
      "cell_type": "code",
      "metadata": {
        "id": "cgfN2ciFPGvj",
        "colab_type": "code",
        "colab": {}
      },
      "source": [
        "features = df['features']"
      ],
      "execution_count": 146,
      "outputs": []
    },
    {
      "cell_type": "code",
      "metadata": {
        "id": "ExcmcvamX1Qq",
        "colab_type": "code",
        "colab": {
          "base_uri": "https://localhost:8080/",
          "height": 35
        },
        "outputId": "83038e9c-f7fa-491b-b5a0-1298e85a8b17"
      },
      "source": [
        " re.sub(r\"((?<=^)|(?<= )).((?=$)|(?= ))\", ' ', 'U dun say so early hor... U u c already then say...')"
      ],
      "execution_count": 147,
      "outputs": [
        {
          "output_type": "execute_result",
          "data": {
            "application/vnd.google.colaboratory.intrinsic+json": {
              "type": "string"
            },
            "text/plain": [
              "'  dun say so early hor...       already then say...'"
            ]
          },
          "metadata": {
            "tags": []
          },
          "execution_count": 147
        }
      ]
    },
    {
      "cell_type": "code",
      "metadata": {
        "id": "oVkBrAVlQnY8",
        "colab_type": "code",
        "colab": {}
      },
      "source": [
        "final_text = []\n",
        "\n",
        "for index in range(0,len(features)):\n",
        "\n",
        "  ## removing symbols and numbers\n",
        "  clean_text = re.sub(r'\\W|\\d', ' ', features[index])\n",
        "\n",
        "  ## removing single word\n",
        "  #clean_text = re.sub(r'\\s+[a-zA-Z]\\s+', ' ', clean_text)\n",
        "  clean_text = re.sub(r\"((?<=^)|(?<= )).((?=$)|(?= ))\", ' ', clean_text)\n",
        "\n",
        "  ## removing multiple spaces\n",
        "  clean_text = re.sub(r'\\s+', ' ', clean_text)\n",
        "\n",
        "  ## converting to lower\n",
        "  clean_text = clean_text.lower()\n",
        "\n",
        "  ## removing stop words\n",
        "  #print(clean_text)\n",
        "  clean_text = ' '.join([x for x in word_tokenize(clean_text) if x not in stopwords.words('english')])\n",
        "\n",
        "  final_text.append(clean_text)\n",
        "\n"
      ],
      "execution_count": 148,
      "outputs": []
    },
    {
      "cell_type": "code",
      "metadata": {
        "id": "845vnljVXNYE",
        "colab_type": "code",
        "colab": {
          "base_uri": "https://localhost:8080/",
          "height": 105
        },
        "outputId": "28d6bf85-efb5-41f8-9874-91c27d3cd584"
      },
      "source": [
        "final_text[:5]"
      ],
      "execution_count": 149,
      "outputs": [
        {
          "output_type": "execute_result",
          "data": {
            "text/plain": [
              "['go jurong point crazy available bugis great world la buffet cine got amore wat',\n",
              " 'ok lar joking wif oni',\n",
              " 'free entry wkly comp win fa cup final tkts st may text fa receive entry question std txt rate apply',\n",
              " 'dun say early hor already say',\n",
              " 'nah think goes usf lives around though']"
            ]
          },
          "metadata": {
            "tags": []
          },
          "execution_count": 149
        }
      ]
    },
    {
      "cell_type": "code",
      "metadata": {
        "id": "qpjRDwIid5ke",
        "colab_type": "code",
        "colab": {}
      },
      "source": [
        "from sklearn.model_selection import train_test_split\n",
        "from sklearn.tree import DecisionTreeClassifier\n",
        "from sklearn.ensemble import RandomForestClassifier\n",
        "from sklearn.naive_bayes import MultinomialNB\n",
        "from sklearn.feature_extraction.text import CountVectorizer\n",
        "from sklearn.metrics import classification_report, confusion_matrix, accuracy_score"
      ],
      "execution_count": 150,
      "outputs": []
    },
    {
      "cell_type": "code",
      "metadata": {
        "id": "psOgO6_Cp7FS",
        "colab_type": "code",
        "colab": {
          "base_uri": "https://localhost:8080/",
          "height": 34
        },
        "outputId": "5479b4d3-6a56-41da-cb1a-4e569fb21704"
      },
      "source": [
        "# calculating words of bags\n",
        "WOB_matrix = CountVectorizer(max_features=2500, max_df=0.8).fit_transform(final_text).toarray()\n",
        "WOB_matrix.shape"
      ],
      "execution_count": 151,
      "outputs": [
        {
          "output_type": "execute_result",
          "data": {
            "text/plain": [
              "(5572, 2500)"
            ]
          },
          "metadata": {
            "tags": []
          },
          "execution_count": 151
        }
      ]
    },
    {
      "cell_type": "code",
      "metadata": {
        "id": "gCG7FUSorWy2",
        "colab_type": "code",
        "colab": {}
      },
      "source": [
        "xtrain, xtest, ytrain, ytest = train_test_split(WOB_matrix, target, test_size=0.2, random_state=0)"
      ],
      "execution_count": 152,
      "outputs": []
    },
    {
      "cell_type": "markdown",
      "metadata": {
        "id": "zJox1VXOt7_O",
        "colab_type": "text"
      },
      "source": [
        "Implementing Descision Tree"
      ]
    },
    {
      "cell_type": "code",
      "metadata": {
        "id": "CsZOEumJr0Mw",
        "colab_type": "code",
        "colab": {}
      },
      "source": [
        "dsc_clf = DecisionTreeClassifier().fit(xtrain, ytrain)"
      ],
      "execution_count": 153,
      "outputs": []
    },
    {
      "cell_type": "code",
      "metadata": {
        "id": "LbP_iv5asGuc",
        "colab_type": "code",
        "colab": {
          "base_uri": "https://localhost:8080/",
          "height": 34
        },
        "outputId": "70074ddc-aafd-44f4-ac95-0989c8bd0d62"
      },
      "source": [
        "ytest[:10], dsc_clf.predict(xtest)[:10]"
      ],
      "execution_count": 154,
      "outputs": [
        {
          "output_type": "execute_result",
          "data": {
            "text/plain": [
              "(array([0, 0, 0, 0, 0, 0, 0, 0, 0, 1]), array([0, 0, 0, 0, 0, 0, 0, 0, 0, 0]))"
            ]
          },
          "metadata": {
            "tags": []
          },
          "execution_count": 154
        }
      ]
    },
    {
      "cell_type": "code",
      "metadata": {
        "id": "_qbDBSmSsgw9",
        "colab_type": "code",
        "colab": {
          "base_uri": "https://localhost:8080/",
          "height": 175
        },
        "outputId": "2c555ee7-cb14-47d7-e889-077c07ce3ea1"
      },
      "source": [
        "print(classification_report(ytest, dsc_clf.predict(xtest)))"
      ],
      "execution_count": 155,
      "outputs": [
        {
          "output_type": "stream",
          "text": [
            "              precision    recall  f1-score   support\n",
            "\n",
            "           0       0.97      0.99      0.98       949\n",
            "           1       0.93      0.84      0.88       166\n",
            "\n",
            "    accuracy                           0.97      1115\n",
            "   macro avg       0.95      0.91      0.93      1115\n",
            "weighted avg       0.97      0.97      0.97      1115\n",
            "\n"
          ],
          "name": "stdout"
        }
      ]
    },
    {
      "cell_type": "code",
      "metadata": {
        "id": "RXNEqdkdswTl",
        "colab_type": "code",
        "colab": {
          "base_uri": "https://localhost:8080/",
          "height": 70
        },
        "outputId": "68a6c14d-912d-443a-9223-ffc6df650513"
      },
      "source": [
        "confusion_matrix(ytest, dsc_clf.predict(xtest)),confusion_matrix(ytrain, dsc_clf.predict(xtrain))"
      ],
      "execution_count": 156,
      "outputs": [
        {
          "output_type": "execute_result",
          "data": {
            "text/plain": [
              "(array([[938,  11],\n",
              "        [ 27, 139]]), array([[3876,    0],\n",
              "        [   2,  579]]))"
            ]
          },
          "metadata": {
            "tags": []
          },
          "execution_count": 156
        }
      ]
    },
    {
      "cell_type": "code",
      "metadata": {
        "id": "gI9W6KNrtGk1",
        "colab_type": "code",
        "colab": {
          "base_uri": "https://localhost:8080/",
          "height": 34
        },
        "outputId": "f3c9b1a0-7e8f-4c5d-ed25-2b28064dc544"
      },
      "source": [
        "accuracy_score(ytest, dsc_clf.predict(xtest)),accuracy_score(ytrain, dsc_clf.predict(xtrain))"
      ],
      "execution_count": 157,
      "outputs": [
        {
          "output_type": "execute_result",
          "data": {
            "text/plain": [
              "(0.9659192825112107, 0.9995512676688355)"
            ]
          },
          "metadata": {
            "tags": []
          },
          "execution_count": 157
        }
      ]
    },
    {
      "cell_type": "markdown",
      "metadata": {
        "id": "Dco-Un7Gt_uR",
        "colab_type": "text"
      },
      "source": [
        "Implementing Random Forest Classifier"
      ]
    },
    {
      "cell_type": "code",
      "metadata": {
        "id": "pNvzznPXtSA8",
        "colab_type": "code",
        "colab": {}
      },
      "source": [
        "rf_clf = RandomForestClassifier(n_estimators=150).fit(xtrain, ytrain)"
      ],
      "execution_count": 158,
      "outputs": []
    },
    {
      "cell_type": "code",
      "metadata": {
        "id": "jmkqLIAAuPwu",
        "colab_type": "code",
        "colab": {
          "base_uri": "https://localhost:8080/",
          "height": 34
        },
        "outputId": "593131e2-4943-44b2-c923-83662904601b"
      },
      "source": [
        "ytest[:10], rf_clf.predict(xtest)[:10]"
      ],
      "execution_count": 159,
      "outputs": [
        {
          "output_type": "execute_result",
          "data": {
            "text/plain": [
              "(array([0, 0, 0, 0, 0, 0, 0, 0, 0, 1]), array([0, 0, 0, 0, 0, 0, 0, 0, 0, 1]))"
            ]
          },
          "metadata": {
            "tags": []
          },
          "execution_count": 159
        }
      ]
    },
    {
      "cell_type": "code",
      "metadata": {
        "id": "aRUydM1VuVPc",
        "colab_type": "code",
        "colab": {
          "base_uri": "https://localhost:8080/",
          "height": 175
        },
        "outputId": "7e54e3d5-8ef7-4761-fa97-d865ec03c29b"
      },
      "source": [
        "print(classification_report(ytest, rf_clf.predict(xtest)))"
      ],
      "execution_count": 160,
      "outputs": [
        {
          "output_type": "stream",
          "text": [
            "              precision    recall  f1-score   support\n",
            "\n",
            "           0       0.97      1.00      0.99       949\n",
            "           1       1.00      0.85      0.92       166\n",
            "\n",
            "    accuracy                           0.98      1115\n",
            "   macro avg       0.99      0.92      0.95      1115\n",
            "weighted avg       0.98      0.98      0.98      1115\n",
            "\n"
          ],
          "name": "stdout"
        }
      ]
    },
    {
      "cell_type": "code",
      "metadata": {
        "id": "8i__Q2fHuYJl",
        "colab_type": "code",
        "colab": {
          "base_uri": "https://localhost:8080/",
          "height": 70
        },
        "outputId": "09c841b4-1ff9-48f2-b836-a725cc0eedb7"
      },
      "source": [
        "confusion_matrix(ytest, rf_clf.predict(xtest)),confusion_matrix(ytrain, rf_clf.predict(xtrain))"
      ],
      "execution_count": 161,
      "outputs": [
        {
          "output_type": "execute_result",
          "data": {
            "text/plain": [
              "(array([[949,   0],\n",
              "        [ 25, 141]]), array([[3876,    0],\n",
              "        [   2,  579]]))"
            ]
          },
          "metadata": {
            "tags": []
          },
          "execution_count": 161
        }
      ]
    },
    {
      "cell_type": "code",
      "metadata": {
        "id": "KHaxvfujuaY9",
        "colab_type": "code",
        "colab": {
          "base_uri": "https://localhost:8080/",
          "height": 34
        },
        "outputId": "18e6d7a8-c46e-4522-ffcc-b2ecc29076ad"
      },
      "source": [
        "accuracy_score(ytest, rf_clf.predict(xtest)),accuracy_score(ytrain, rf_clf.predict(xtrain))"
      ],
      "execution_count": 162,
      "outputs": [
        {
          "output_type": "execute_result",
          "data": {
            "text/plain": [
              "(0.9775784753363229, 0.9995512676688355)"
            ]
          },
          "metadata": {
            "tags": []
          },
          "execution_count": 162
        }
      ]
    },
    {
      "cell_type": "markdown",
      "metadata": {
        "id": "b8RizcZDvtQv",
        "colab_type": "text"
      },
      "source": [
        "multinomial Naive Bayes classifier"
      ]
    },
    {
      "cell_type": "code",
      "metadata": {
        "id": "XmD6TVFhujw9",
        "colab_type": "code",
        "colab": {}
      },
      "source": [
        "nb_clf = MultinomialNB().fit(xtrain, ytrain)"
      ],
      "execution_count": 163,
      "outputs": []
    },
    {
      "cell_type": "code",
      "metadata": {
        "id": "zWGVyq-Bv2aI",
        "colab_type": "code",
        "colab": {
          "base_uri": "https://localhost:8080/",
          "height": 34
        },
        "outputId": "d3898893-1ff1-425f-c15c-a4a210ac87ea"
      },
      "source": [
        "ytest[:10], nb_clf.predict(xtest)[:10]"
      ],
      "execution_count": 164,
      "outputs": [
        {
          "output_type": "execute_result",
          "data": {
            "text/plain": [
              "(array([0, 0, 0, 0, 0, 0, 0, 0, 0, 1]), array([0, 0, 0, 0, 0, 0, 0, 0, 0, 1]))"
            ]
          },
          "metadata": {
            "tags": []
          },
          "execution_count": 164
        }
      ]
    },
    {
      "cell_type": "code",
      "metadata": {
        "id": "Msh8Ovvbv4rN",
        "colab_type": "code",
        "colab": {
          "base_uri": "https://localhost:8080/",
          "height": 175
        },
        "outputId": "9b21eb82-de7e-4aeb-83c8-9780e354fbdf"
      },
      "source": [
        "print(classification_report(ytest, nb_clf.predict(xtest)))"
      ],
      "execution_count": 165,
      "outputs": [
        {
          "output_type": "stream",
          "text": [
            "              precision    recall  f1-score   support\n",
            "\n",
            "           0       0.99      0.99      0.99       949\n",
            "           1       0.93      0.94      0.94       166\n",
            "\n",
            "    accuracy                           0.98      1115\n",
            "   macro avg       0.96      0.96      0.96      1115\n",
            "weighted avg       0.98      0.98      0.98      1115\n",
            "\n"
          ],
          "name": "stdout"
        }
      ]
    },
    {
      "cell_type": "code",
      "metadata": {
        "id": "ARjxJEUcwAR9",
        "colab_type": "code",
        "colab": {
          "base_uri": "https://localhost:8080/",
          "height": 34
        },
        "outputId": "bf7abf1a-5bd4-45cc-fe76-88abea5ab69c"
      },
      "source": [
        "accuracy_score(ytest, rf_clf.predict(xtest)),accuracy_score(ytrain, rf_clf.predict(xtrain))"
      ],
      "execution_count": 166,
      "outputs": [
        {
          "output_type": "execute_result",
          "data": {
            "text/plain": [
              "(0.9775784753363229, 0.9995512676688355)"
            ]
          },
          "metadata": {
            "tags": []
          },
          "execution_count": 166
        }
      ]
    },
    {
      "cell_type": "code",
      "metadata": {
        "id": "55KHwV-FwEGF",
        "colab_type": "code",
        "colab": {}
      },
      "source": [
        ""
      ],
      "execution_count": 166,
      "outputs": []
    },
    {
      "cell_type": "markdown",
      "metadata": {
        "id": "Nhq70WhXwXj_",
        "colab_type": "text"
      },
      "source": [
        "Testing"
      ]
    },
    {
      "cell_type": "code",
      "metadata": {
        "id": "LiA7S4u5wYV9",
        "colab_type": "code",
        "colab": {
          "base_uri": "https://localhost:8080/",
          "height": 34
        },
        "outputId": "7d58403d-5bbc-4707-f3d4-6a6dbf35b475"
      },
      "source": [
        "lr.inverse_transform(rf_clf.predict(WOB_matrix[9].reshape(1, -1)))"
      ],
      "execution_count": 172,
      "outputs": [
        {
          "output_type": "execute_result",
          "data": {
            "text/plain": [
              "array(['spam'], dtype=object)"
            ]
          },
          "metadata": {
            "tags": []
          },
          "execution_count": 172
        }
      ]
    },
    {
      "cell_type": "code",
      "metadata": {
        "id": "aptaQBNtwkIe",
        "colab_type": "code",
        "colab": {
          "base_uri": "https://localhost:8080/",
          "height": 35
        },
        "outputId": "b4db828a-5dc9-468d-baec-dd1bfe6457c0"
      },
      "source": [
        "final_text[9]"
      ],
      "execution_count": 173,
      "outputs": [
        {
          "output_type": "execute_result",
          "data": {
            "application/vnd.google.colaboratory.intrinsic+json": {
              "type": "string"
            },
            "text/plain": [
              "'mobile months entitled update latest colour mobiles camera free call mobile update co free'"
            ]
          },
          "metadata": {
            "tags": []
          },
          "execution_count": 173
        }
      ]
    },
    {
      "cell_type": "code",
      "metadata": {
        "id": "h-HrE5Jm2lnc",
        "colab_type": "code",
        "colab": {
          "base_uri": "https://localhost:8080/",
          "height": 53
        },
        "outputId": "af4748f3-ec76-4658-e606-222b983aebb9"
      },
      "source": [
        "features[9]"
      ],
      "execution_count": 174,
      "outputs": [
        {
          "output_type": "execute_result",
          "data": {
            "application/vnd.google.colaboratory.intrinsic+json": {
              "type": "string"
            },
            "text/plain": [
              "'Had your mobile 11 months or more? U R entitled to Update to the latest colour mobiles with camera for Free! Call The Mobile Update Co FREE on 08002986030'"
            ]
          },
          "metadata": {
            "tags": []
          },
          "execution_count": 174
        }
      ]
    },
    {
      "cell_type": "code",
      "metadata": {
        "id": "ZX9uG3QJ2pCL",
        "colab_type": "code",
        "colab": {
          "base_uri": "https://localhost:8080/",
          "height": 122
        },
        "outputId": "2a2f44e0-6ae8-4813-8d44-ed01d4e95721"
      },
      "source": [
        "df.iloc[9,:]"
      ],
      "execution_count": 178,
      "outputs": [
        {
          "output_type": "execute_result",
          "data": {
            "text/plain": [
              "result                                                   spam\n",
              "features    Had your mobile 11 months or more? U R entitle...\n",
              "unamed1                                                   NaN\n",
              "unamed2                                                   NaN\n",
              "unamed3                                                   NaN\n",
              "Name: 9, dtype: object"
            ]
          },
          "metadata": {
            "tags": []
          },
          "execution_count": 178
        }
      ]
    },
    {
      "cell_type": "code",
      "metadata": {
        "id": "SiHzxIP-2zXq",
        "colab_type": "code",
        "colab": {}
      },
      "source": [
        ""
      ],
      "execution_count": null,
      "outputs": []
    }
  ]
}